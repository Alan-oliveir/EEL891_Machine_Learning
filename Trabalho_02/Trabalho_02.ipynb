{
  "nbformat": 4,
  "nbformat_minor": 0,
  "metadata": {
    "colab": {
      "provenance": []
    },
    "kernelspec": {
      "name": "python3",
      "display_name": "Python 3"
    },
    "language_info": {
      "name": "python"
    }
  },
  "cells": [
    {
      "cell_type": "markdown",
      "source": [
        "**Trabalho 2 - EEL 891 - Introdução ao Aprendizado de Máquina**\n",
        "\n",
        "Aluno: Alan de O. Gonçalves\n",
        "\n",
        "Neste trabalho foi usado KNN-regressor, support vector regression e linear regression."
      ],
      "metadata": {
        "id": "ljxHFRxaEaDK"
      }
    },
    {
      "cell_type": "code",
      "execution_count": null,
      "metadata": {
        "colab": {
          "base_uri": "https://localhost:8080/"
        },
        "id": "1EQqVkZkNcIn",
        "outputId": "50a22a4f-d307-4a73-91f1-69eca7c370b8"
      },
      "outputs": [
        {
          "output_type": "stream",
          "name": "stdout",
          "text": [
            "Drive already mounted at /content/drive; to attempt to forcibly remount, call drive.mount(\"/content/drive\", force_remount=True).\n"
          ]
        }
      ],
      "source": [
        "#-------------------------------------------------------------------------------\n",
        "# Importar diretórios do google drive\n",
        "#-------------------------------------------------------------------------------\n",
        "\n",
        "from google.colab import drive\n",
        "drive.mount ('/content/drive')"
      ]
    },
    {
      "cell_type": "code",
      "source": [
        "#-------------------------------------------------------------------------------\n",
        "# Importar bibliotecas\n",
        "#-------------------------------------------------------------------------------\n",
        "\n",
        "import pandas as pd"
      ],
      "metadata": {
        "id": "q7Kl0wvPNmn9"
      },
      "execution_count": null,
      "outputs": []
    },
    {
      "cell_type": "code",
      "source": [
        "#-------------------------------------------------------------------------------\n",
        "# Ler o arquivo CSV com os dados de treinamento do Trabalho 2\n",
        "#-------------------------------------------------------------------------------\n",
        "\n",
        "dados_treinamento = pd.read_csv('/content/drive/MyDrive/conjunto_de_treinamento.csv')"
      ],
      "metadata": {
        "id": "OD7BakcSNudB"
      },
      "execution_count": null,
      "outputs": []
    },
    {
      "cell_type": "code",
      "source": [
        "#-------------------------------------------------------------------------------\n",
        "# Removendo outliers\n",
        "#-------------------------------------------------------------------------------\n",
        "\n",
        "dados_treinamento = (dados_treinamento[(dados_treinamento.preco > 50000) & (dados_treinamento.preco < 50000000)])\n",
        "\n",
        "#print(dados_treinamento)"
      ],
      "metadata": {
        "id": "VaS5GBQhN63z"
      },
      "execution_count": null,
      "outputs": []
    },
    {
      "cell_type": "code",
      "source": [
        "dados_dummies_train = pd.get_dummies(data=dados_treinamento, columns=['tipo', 'tipo_vendedor'])\n",
        "\n",
        "#print(dados_dummies_train)"
      ],
      "metadata": {
        "id": "GCJlMhUyOnvv"
      },
      "execution_count": null,
      "outputs": []
    },
    {
      "cell_type": "code",
      "source": [
        "#-------------------------------------------------------------------------------\n",
        "# Removendo colunas com linhas vazias e dados pouco significativos\n",
        "#-------------------------------------------------------------------------------\n",
        "\n",
        "dados_train = dados_dummies_train.drop(dados_dummies_train.columns[[1, 7]], axis=1)\n",
        "\n",
        "#print(dados_train)"
      ],
      "metadata": {
        "id": "hsUQCSFGQlqR"
      },
      "execution_count": null,
      "outputs": []
    },
    {
      "cell_type": "code",
      "source": [
        "#-------------------------------------------------------------------------------\n",
        "# Ler o arquivo CSV com os dados do teste do Trabalho 2\n",
        "#-------------------------------------------------------------------------------\n",
        "\n",
        "dados_teste = pd.read_csv('/content/drive/MyDrive/conjunto_de_teste.csv')\n",
        "\n",
        "#print(dados_teste)"
      ],
      "metadata": {
        "id": "wbxjUK3tO7th"
      },
      "execution_count": null,
      "outputs": []
    },
    {
      "cell_type": "code",
      "source": [
        "dados_teste_dummies = pd.get_dummies(data=dados_teste, columns=['tipo', 'tipo_vendedor'])"
      ],
      "metadata": {
        "id": "vqElXad6PEgT"
      },
      "execution_count": null,
      "outputs": []
    },
    {
      "cell_type": "code",
      "source": [
        "#-------------------------------------------------------------------------------\n",
        "# Removendo colunas com linhas vazias e dados pouco significativos\n",
        "#-------------------------------------------------------------------------------\n",
        "\n",
        "dados_test = dados_teste_dummies.drop(dados_teste_dummies.columns[[1, 7]], axis=1)\n",
        "\n",
        "#print(dados_test)"
      ],
      "metadata": {
        "id": "2mJw790JRBUz"
      },
      "execution_count": null,
      "outputs": []
    },
    {
      "cell_type": "code",
      "source": [
        "#------------------------------------------------------------------------------\n",
        "# Verificar as colunas disponíveis\n",
        "#------------------------------------------------------------------------------\n",
        "\n",
        "colunas_treino = dados_train.columns\n",
        "\n",
        "print(\"Colunas conjunto de treino disponíveis:\")\n",
        "print(colunas_treino)\n",
        "\n",
        "colunas_teste = dados_test.columns\n",
        "\n",
        "print(\"Colunas conjunto de test disponíveis:\")\n",
        "print(colunas_teste)"
      ],
      "metadata": {
        "colab": {
          "base_uri": "https://localhost:8080/"
        },
        "id": "c1Fk6kG5Rw6u",
        "outputId": "00c24265-9c62-4357-f945-d4d5f6068b65"
      },
      "execution_count": null,
      "outputs": [
        {
          "output_type": "stream",
          "name": "stdout",
          "text": [
            "Colunas conjunto de treino disponíveis:\n",
            "Index(['Id', 'quartos', 'suites', 'vagas', 'area_util', 'area_extra',\n",
            "       'churrasqueira', 'estacionamento', 'piscina', 'playground', 'quadra',\n",
            "       's_festas', 's_jogos', 's_ginastica', 'sauna', 'vista_mar', 'preco',\n",
            "       'tipo_Apartamento', 'tipo_Casa', 'tipo_Loft', 'tipo_Quitinete',\n",
            "       'tipo_vendedor_Imobiliaria', 'tipo_vendedor_Pessoa Fisica'],\n",
            "      dtype='object')\n",
            "Colunas conjunto de test disponíveis:\n",
            "Index(['Id', 'quartos', 'suites', 'vagas', 'area_util', 'area_extra',\n",
            "       'churrasqueira', 'estacionamento', 'piscina', 'playground', 'quadra',\n",
            "       's_festas', 's_jogos', 's_ginastica', 'sauna', 'vista_mar',\n",
            "       'tipo_Apartamento', 'tipo_Casa', 'tipo_Loft',\n",
            "       'tipo_vendedor_Imobiliaria', 'tipo_vendedor_Pessoa Fisica'],\n",
            "      dtype='object')\n"
          ]
        }
      ]
    },
    {
      "cell_type": "code",
      "source": [
        "#-------------------------------------------------------------------------------\n",
        "# Removendo colunas com linhas vazias e dados pouco significativos\n",
        "#-------------------------------------------------------------------------------\n",
        "\n",
        "dados_train = dados_train.drop(dados_train.columns[[20]], axis=1)"
      ],
      "metadata": {
        "id": "-e4FjhCbUWxL"
      },
      "execution_count": null,
      "outputs": []
    },
    {
      "cell_type": "code",
      "source": [
        "#------------------------------------------------------------------------------\n",
        "# Verificar as colunas disponíveis\n",
        "#------------------------------------------------------------------------------\n",
        "\n",
        "colunas_treino = dados_train.columns\n",
        "\n",
        "print(\"Colunas conjunto de treino disponíveis:\")\n",
        "print(colunas_treino)\n",
        "\n",
        "colunas_teste = dados_test.columns\n",
        "\n",
        "print(\"Colunas conjunto de test disponíveis:\")\n",
        "print(colunas_teste)"
      ],
      "metadata": {
        "colab": {
          "base_uri": "https://localhost:8080/"
        },
        "id": "jS-48blQUlTA",
        "outputId": "2a8e6f76-1e96-4fbd-84c5-7d907f5c818c"
      },
      "execution_count": null,
      "outputs": [
        {
          "output_type": "stream",
          "name": "stdout",
          "text": [
            "Colunas conjunto de treino disponíveis:\n",
            "Index(['Id', 'quartos', 'suites', 'vagas', 'area_util', 'area_extra',\n",
            "       'churrasqueira', 'estacionamento', 'piscina', 'playground', 'quadra',\n",
            "       's_festas', 's_jogos', 's_ginastica', 'sauna', 'vista_mar', 'preco',\n",
            "       'tipo_Apartamento', 'tipo_Casa', 'tipo_Loft',\n",
            "       'tipo_vendedor_Imobiliaria', 'tipo_vendedor_Pessoa Fisica'],\n",
            "      dtype='object')\n",
            "Colunas conjunto de test disponíveis:\n",
            "Index(['Id', 'quartos', 'suites', 'vagas', 'area_util', 'area_extra',\n",
            "       'churrasqueira', 'estacionamento', 'piscina', 'playground', 'quadra',\n",
            "       's_festas', 's_jogos', 's_ginastica', 'sauna', 'vista_mar',\n",
            "       'tipo_Apartamento', 'tipo_Casa', 'tipo_Loft',\n",
            "       'tipo_vendedor_Imobiliaria', 'tipo_vendedor_Pessoa Fisica'],\n",
            "      dtype='object')\n"
          ]
        }
      ]
    },
    {
      "cell_type": "code",
      "source": [
        "#------------------------------------------------------------------------------\n",
        "#  Visualizando os conjuntos de dados\n",
        "#------------------------------------------------------------------------------\n",
        "\n",
        "# print(dados_train)\n",
        "# print(dados_test)"
      ],
      "metadata": {
        "id": "GscWVGM1GiwT"
      },
      "execution_count": null,
      "outputs": []
    },
    {
      "cell_type": "markdown",
      "source": [
        "Estava dando erro devido ao conjunto de treinamento possuir quitinetes e o conjunto de testes não."
      ],
      "metadata": {
        "id": "ZuBMcdlvVl6L"
      }
    },
    {
      "cell_type": "code",
      "source": [
        "#------------------------------------------------------------------------------\n",
        "#  Criar os conjuntos correspondentes aos atributos e ao alvo\n",
        "#------------------------------------------------------------------------------\n",
        "\n",
        "X = dados_train.select_dtypes(exclude=['object']).drop('preco', axis=1)\n",
        "y = dados_train.preco"
      ],
      "metadata": {
        "id": "X2UPYNL2VBaG"
      },
      "execution_count": null,
      "outputs": []
    },
    {
      "cell_type": "code",
      "source": [
        "#------------------------------------------------------------------------------\n",
        "#  Dividir o conjunto de dados em conjunto de treinamento e conjunto de teste\n",
        "#------------------------------------------------------------------------------\n",
        "\n",
        "from sklearn.model_selection import train_test_split\n",
        "\n",
        "X_train, X_test, y_train, y_test = train_test_split( X, y, test_size = 0.3, random_state = 3)"
      ],
      "metadata": {
        "id": "MLRiScWaWe6f"
      },
      "execution_count": null,
      "outputs": []
    },
    {
      "cell_type": "code",
      "source": [
        "#------------------------------------------------------------------------------\n",
        "#  Visualizando os conjuntos de treinamento e teste\n",
        "#------------------------------------------------------------------------------\n",
        "\n",
        "# print(X_train)\n",
        "# print(y_train)\n",
        "# print(X_test)\n",
        "# print(y_test)"
      ],
      "metadata": {
        "id": "rrV0sFFGYgpd"
      },
      "execution_count": null,
      "outputs": []
    },
    {
      "cell_type": "code",
      "source": [
        "#------------------------------------------------------------------------------\n",
        "#  KNN - Verificar a variação do erro com o parâmetro K (sem escala)\n",
        "#------------------------------------------------------------------------------\n",
        "\n",
        "from sklearn.neighbors import KNeighborsRegressor\n",
        "from sklearn.metrics import mean_squared_error\n",
        "import math\n",
        "\n",
        "print ( ' ' )\n",
        "print ( ' K-NN SEM ESCALA:' )\n",
        "print ( ' ' )\n",
        "print ( '   K      Erro' )\n",
        "print ( ' ----     -------' )\n",
        "\n",
        "for k in range(1,21):\n",
        "\n",
        "    knn = KNeighborsRegressor(\n",
        "            n_neighbors=k,\n",
        "            weights='distance'\n",
        "            )\n",
        "\n",
        "    knn = knn.fit(X_train, y_train)\n",
        "\n",
        "    y_resposta  = knn.predict(X_test)\n",
        "\n",
        "    erro = math.sqrt ( mean_squared_error ( y_test  , y_resposta  ) )\n",
        "\n",
        "    print ( str ( '   %2d' % k    ) + '  ' +\n",
        "            str ( '%10.4f' % erro )\n",
        "          )"
      ],
      "metadata": {
        "colab": {
          "base_uri": "https://localhost:8080/"
        },
        "id": "q6I4aS2CiW4Q",
        "outputId": "ebfb9aff-9445-4336-f02c-67def27ba540"
      },
      "execution_count": null,
      "outputs": [
        {
          "output_type": "stream",
          "name": "stdout",
          "text": [
            " \n",
            " K-NN SEM ESCALA:\n",
            " \n",
            "   K      Erro\n",
            " ----     -------\n",
            "    1  517551.8459\n",
            "    2  488443.7639\n",
            "    3  453509.8855\n",
            "    4  426019.1624\n",
            "    5  414088.8689\n",
            "    6  409032.0439\n",
            "    7  402846.9681\n",
            "    8  399447.5754\n",
            "    9  397988.4527\n",
            "   10  398329.4976\n",
            "   11  396460.1883\n",
            "   12  394603.4720\n",
            "   13  394537.6450\n",
            "   14  396524.9256\n",
            "   15  396621.4721\n",
            "   16  396113.5270\n",
            "   17  396793.0384\n",
            "   18  397472.4112\n",
            "   19  397509.5252\n",
            "   20  397784.0360\n"
          ]
        }
      ]
    },
    {
      "cell_type": "code",
      "source": [
        "#------------------------------------------------------------------------------\n",
        "#  KNN - Verificar a variação do erro com o parâmetro K (com escala)\n",
        "#------------------------------------------------------------------------------\n",
        "\n",
        "from sklearn.preprocessing import MinMaxScaler,StandardScaler\n",
        "\n",
        "scaler  = MinMaxScaler()\n",
        "X_train = scaler.fit_transform(X_train)\n",
        "X_test  = scaler.transform(X_test)\n",
        "\n",
        "print ( ' ' )\n",
        "print ( ' K-NN COM ESCALA:' )\n",
        "print ( ' ' )\n",
        "print ( '   K      Erro' )\n",
        "print ( ' ----     -------' )\n",
        "\n",
        "for k in range(1,21):\n",
        "\n",
        "    knn = KNeighborsRegressor(\n",
        "            n_neighbors=k,\n",
        "            weights='distance'\n",
        "            )\n",
        "\n",
        "    knn = knn.fit(X_train, y_train)\n",
        "\n",
        "    y_resposta  = knn.predict(X_test)\n",
        "\n",
        "    erro = math.sqrt (mean_squared_error (y_test  , y_resposta))\n",
        "\n",
        "    print ( str ( '   %2d' % k    ) + '  ' +\n",
        "            str ( '%10.4f' % erro )\n",
        "          )"
      ],
      "metadata": {
        "colab": {
          "base_uri": "https://localhost:8080/"
        },
        "id": "VIpw_emm2YDp",
        "outputId": "76123d98-824c-45ab-ed69-8755a15791d9"
      },
      "execution_count": null,
      "outputs": [
        {
          "output_type": "stream",
          "name": "stdout",
          "text": [
            " \n",
            " K-NN COM ESCALA:\n",
            " \n",
            "   K      Erro\n",
            " ----     -------\n",
            "    1  425250.1367\n",
            "    2  373221.3421\n",
            "    3  366931.2334\n",
            "    4  360771.2750\n",
            "    5  357305.9139\n",
            "    6  355752.5228\n",
            "    7  356075.3387\n",
            "    8  357967.7600\n",
            "    9  359209.6638\n",
            "   10  362803.3474\n",
            "   11  365326.6984\n",
            "   12  366664.9229\n",
            "   13  367971.7739\n",
            "   14  370089.8220\n",
            "   15  370554.5072\n",
            "   16  373035.2162\n",
            "   17  373324.3481\n",
            "   18  374294.3723\n",
            "   19  374375.9055\n",
            "   20  376079.9999\n"
          ]
        }
      ]
    },
    {
      "cell_type": "markdown",
      "source": [
        "O melhor resultado foi obtido usando escala e com k = 6."
      ],
      "metadata": {
        "id": "y6Gm64352xtU"
      }
    },
    {
      "cell_type": "code",
      "source": [
        "#------------------------------------------------------------------------------\n",
        "#  Treinar um regressor kNN com k = 6 e escala\n",
        "#------------------------------------------------------------------------------\n",
        "\n",
        "K=6\n",
        "\n",
        "from sklearn.neighbors import KNeighborsRegressor\n",
        "\n",
        "modelo = KNeighborsRegressor( n_neighbors = K, weights='uniform' )\n",
        "modelo = modelo.fit(X_train, y_train)\n",
        "y_resposta = modelo.predict(X_test)\n",
        "\n",
        "#------------------------------------------------------------------------------\n",
        "#  Visualizando a resposta\n",
        "#------------------------------------------------------------------------------\n",
        "\n",
        "#print(y_resposta)"
      ],
      "metadata": {
        "id": "zw_7A11IY9lp"
      },
      "execution_count": null,
      "outputs": []
    },
    {
      "cell_type": "code",
      "source": [
        "#------------------------------------------------------------------------------\n",
        "#  Métricas de Erro\n",
        "#------------------------------------------------------------------------------\n",
        "\n",
        "from sklearn.metrics import mean_squared_error\n",
        "from math import sqrt\n",
        "import numpy as np\n",
        "\n",
        "# Calculo  MSE:\n",
        "MSE = mean_squared_error(y_test, y_resposta)\n",
        "\n",
        "# Calculo  RMSE:\n",
        "RMSE = sqrt(mean_squared_error(y_test, y_resposta))\n",
        "\n",
        "# Calculo RMSPE:\n",
        "RMSPE = np.sqrt(np.mean(np.square(((y_test - y_resposta) / y_test))))\n",
        "\n",
        "print('MSE: ', MSE)\n",
        "\n",
        "print('RMSE: ', RMSE)\n",
        "\n",
        "print('RMSPE: ', RMSPE)"
      ],
      "metadata": {
        "colab": {
          "base_uri": "https://localhost:8080/"
        },
        "id": "10BQuJNShEHu",
        "outputId": "42f89576-d22e-460a-ddd7-8c3c6bad278a"
      },
      "execution_count": null,
      "outputs": [
        {
          "output_type": "stream",
          "name": "stdout",
          "text": [
            "MSE:  128862444129.86845\n",
            "RMSE:  358974.15523943846\n",
            "RMSPE:  0.39814418561304515\n"
          ]
        }
      ]
    },
    {
      "cell_type": "code",
      "source": [
        "#------------------------------------------------------------------------------\n",
        "#  Treinar um regressor linear com o conjunto de treinamento\n",
        "#------------------------------------------------------------------------------\n",
        "\n",
        "print ( ' ' )\n",
        "print ( ' REGRESSOR LINEAR:' )\n",
        "print ( ' ' )\n",
        "\n",
        "from sklearn.linear_model import LinearRegression\n",
        "\n",
        "modelo = LinearRegression()\n",
        "modelo = modelo.fit(X_train, y_train)\n",
        "\n",
        "y_resposta  = modelo.predict(X_test)\n",
        "\n",
        "erro = math.sqrt ( mean_squared_error ( y_test  , y_resposta  ) )\n",
        "\n",
        "print (str ('%10.4f' % erro))"
      ],
      "metadata": {
        "colab": {
          "base_uri": "https://localhost:8080/"
        },
        "id": "8gfsMnzo55D-",
        "outputId": "3ed3d1e5-4a3d-4f4a-aa69-f1fa637d4f6e"
      },
      "execution_count": null,
      "outputs": [
        {
          "output_type": "stream",
          "name": "stdout",
          "text": [
            " \n",
            " REGRESSOR LINEAR:\n",
            " \n",
            "357190.3438\n"
          ]
        }
      ]
    },
    {
      "cell_type": "code",
      "source": [
        "#------------------------------------------------------------------------------\n",
        "#  Métricas de Erro\n",
        "#------------------------------------------------------------------------------\n",
        "\n",
        "from sklearn.metrics import mean_squared_error\n",
        "from math import sqrt\n",
        "import numpy as np\n",
        "\n",
        "# Calculo  MSE:\n",
        "MSE = mean_squared_error(y_test, y_resposta)\n",
        "\n",
        "# Calculo  RMSE:\n",
        "RMSE = sqrt(mean_squared_error(y_test, y_resposta))\n",
        "\n",
        "# Calculo RMSPE:\n",
        "RMSPE = np.sqrt(np.mean(np.square(((y_test - y_resposta) / y_test))))\n",
        "\n",
        "print('MSE: ', MSE)\n",
        "\n",
        "print('RMSE: ', RMSE)\n",
        "\n",
        "print('RMSPE: ', RMSPE)"
      ],
      "metadata": {
        "colab": {
          "base_uri": "https://localhost:8080/"
        },
        "id": "z-pbHTO76MZi",
        "outputId": "2cba4aae-1c43-4504-ebf6-5d888439fd68"
      },
      "execution_count": null,
      "outputs": [
        {
          "output_type": "stream",
          "name": "stdout",
          "text": [
            "MSE:  127584941696.07568\n",
            "RMSE:  357190.34378896037\n",
            "RMSPE:  0.4718889697869836\n"
          ]
        }
      ]
    },
    {
      "cell_type": "code",
      "source": [
        "#------------------------------------------------------------------------------\n",
        "#  Treinar Support Vector Regression\n",
        "#------------------------------------------------------------------------------\n",
        "\n",
        "print ( ' ' )\n",
        "print ( ' Support Vector Regression:' )\n",
        "print ( ' ' )\n",
        "\n",
        "from sklearn.svm import SVR\n",
        "from sklearn.pipeline import make_pipeline\n",
        "\n",
        "for c in range(1,10):\n",
        "\n",
        "    regrSVR = make_pipeline(StandardScaler(), SVR(C=c, epsilon=0.2))\n",
        "\n",
        "    regrSVR= regrSVR.fit(X_train, y_train)\n",
        "\n",
        "    y_resposta  = regrSVR.predict(X_test)\n",
        "\n",
        "    erro = math.sqrt (mean_squared_error (y_test  , y_resposta))\n",
        "\n",
        "    print ( str ( '   %2d' % c    ) + '  ' +\n",
        "            str ( '%10.4f' % erro )\n",
        "          )"
      ],
      "metadata": {
        "colab": {
          "base_uri": "https://localhost:8080/"
        },
        "id": "WaI42T7i94xF",
        "outputId": "d8a25bac-4de7-4cbc-c669-4ec279962db9"
      },
      "execution_count": null,
      "outputs": [
        {
          "output_type": "stream",
          "name": "stdout",
          "text": [
            " \n",
            " Support Vector Regression:\n",
            " \n",
            "    1  621961.7063\n",
            "    2  621846.2504\n",
            "    3  621730.8135\n",
            "    4  621615.3957\n",
            "    5  621499.9968\n",
            "    6  621384.6171\n",
            "    7  621269.2563\n",
            "    8  621153.9147\n",
            "    9  621038.5921\n"
          ]
        }
      ]
    },
    {
      "cell_type": "markdown",
      "source": [
        "Observa-se que o erro diminui para valares mais altos de C."
      ],
      "metadata": {
        "id": "hPjhCyB-DuQG"
      }
    },
    {
      "cell_type": "code",
      "source": [
        "#------------------------------------------------------------------------------\n",
        "#  Métricas de Erro\n",
        "#------------------------------------------------------------------------------\n",
        "\n",
        "from sklearn.metrics import mean_squared_error\n",
        "from math import sqrt\n",
        "import numpy as np\n",
        "\n",
        "# Calculo  MSE:\n",
        "MSE = mean_squared_error(y_test, y_resposta)\n",
        "\n",
        "# Calculo  RMSE:\n",
        "RMSE = sqrt(mean_squared_error(y_test, y_resposta))\n",
        "\n",
        "# Calculo RMSPE:\n",
        "RMSPE = np.sqrt(np.mean(np.square(((y_test - y_resposta) / y_test))))\n",
        "\n",
        "print('MSE: ', MSE)\n",
        "\n",
        "print('RMSE: ', RMSE)\n",
        "\n",
        "print('RMSPE: ', RMSPE)"
      ],
      "metadata": {
        "colab": {
          "base_uri": "https://localhost:8080/"
        },
        "id": "asvYqyIsDrY9",
        "outputId": "e6199d59-15e5-4c22-93a0-30af397b2056"
      },
      "execution_count": null,
      "outputs": [
        {
          "output_type": "stream",
          "name": "stdout",
          "text": [
            "MSE:  385688932891.0249\n",
            "RMSE:  621038.5921108485\n",
            "RMSPE:  0.6168628280574302\n"
          ]
        }
      ]
    },
    {
      "cell_type": "markdown",
      "source": [
        "Dos métodos utilizados o que apresentou o melhor resultado foi KNN (com escala e k = 6)."
      ],
      "metadata": {
        "id": "Hp9IU75sFlfS"
      }
    }
  ]
}