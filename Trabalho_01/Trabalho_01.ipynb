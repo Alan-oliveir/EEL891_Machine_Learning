{
  "nbformat": 4,
  "nbformat_minor": 0,
  "metadata": {
    "colab": {
      "provenance": []
    },
    "kernelspec": {
      "name": "python3",
      "display_name": "Python 3"
    },
    "language_info": {
      "name": "python"
    }
  },
  "cells": [
    {
      "cell_type": "markdown",
      "source": [
        "**Trabalho 1 - EEL 891 - Introdução ao Aprendizado de Máquina**\n",
        "\n",
        "Aluno: Alan de O. Gonçalves"
      ],
      "metadata": {
        "id": "D87KTlnxJnjI"
      }
    },
    {
      "cell_type": "code",
      "execution_count": null,
      "metadata": {
        "colab": {
          "base_uri": "https://localhost:8080/"
        },
        "id": "QzCKoaVmJh4r",
        "outputId": "13779387-ca05-48d4-f192-7d7514c3904f"
      },
      "outputs": [
        {
          "output_type": "stream",
          "name": "stdout",
          "text": [
            "Drive already mounted at /content/drive; to attempt to forcibly remount, call drive.mount(\"/content/drive\", force_remount=True).\n"
          ]
        }
      ],
      "source": [
        "#-------------------------------------------------------------------------------\n",
        "# Importar diretórios do google drive\n",
        "#-------------------------------------------------------------------------------\n",
        "\n",
        "from google.colab import drive\n",
        "drive.mount ('/content/drive')"
      ]
    },
    {
      "cell_type": "code",
      "source": [
        "#-------------------------------------------------------------------------------\n",
        "# Importar bibliotecas\n",
        "#-------------------------------------------------------------------------------\n",
        "\n",
        "import pandas as pd\n",
        "import numpy as np\n",
        "\n",
        "import statistics"
      ],
      "metadata": {
        "id": "cyXkLflmJ61w"
      },
      "execution_count": null,
      "outputs": []
    },
    {
      "cell_type": "code",
      "source": [
        "#-------------------------------------------------------------------------------\n",
        "# Ler o arquivo CSV com os dados de treinamento do Trabalho 1\n",
        "#-------------------------------------------------------------------------------\n",
        "\n",
        "dados_treinamento = pd.read_csv('/content/drive/MyDrive/conjunto_de_treinamento.csv')"
      ],
      "metadata": {
        "id": "chuMRjy6J8sy"
      },
      "execution_count": null,
      "outputs": []
    },
    {
      "cell_type": "code",
      "source": [
        "print (dados_treinamento)"
      ],
      "metadata": {
        "colab": {
          "base_uri": "https://localhost:8080/"
        },
        "id": "lrNKKKYIKi9f",
        "outputId": "eb0fc607-ed9e-4b2b-b9f1-fd7dbe9eb226"
      },
      "execution_count": null,
      "outputs": [
        {
          "output_type": "stream",
          "name": "stdout",
          "text": [
            "       id_solicitante  produto_solicitado  dia_vencimento  \\\n",
            "0                   1                   1              10   \n",
            "1                   2                   1              25   \n",
            "2                   3                   1              20   \n",
            "3                   4                   1              20   \n",
            "4                   5                   7               1   \n",
            "...               ...                 ...             ...   \n",
            "19995           19996                   1              10   \n",
            "19996           19997                   1              20   \n",
            "19997           19998                   1              10   \n",
            "19998           19999                   1               5   \n",
            "19999           20000                   2              20   \n",
            "\n",
            "      forma_envio_solicitacao  tipo_endereco sexo  idade  estado_civil  \\\n",
            "0                  presencial              1    M     85             2   \n",
            "1                    internet              1    F     38             1   \n",
            "2                    internet              1    F     37             2   \n",
            "3                    internet              1    M     37             1   \n",
            "4                    internet              1    F     51             1   \n",
            "...                       ...            ...  ...    ...           ...   \n",
            "19995              presencial              1    M     27             2   \n",
            "19996              presencial              1    F     26             2   \n",
            "19997                internet              1    F     63             2   \n",
            "19998                internet              1    F     84             1   \n",
            "19999              presencial              1    F     53             1   \n",
            "\n",
            "       qtde_dependentes  grau_instrucao  ...  possui_telefone_trabalho  \\\n",
            "0                     0               0  ...                         N   \n",
            "1                     0               0  ...                         N   \n",
            "2                     0               0  ...                         N   \n",
            "3                     1               0  ...                         Y   \n",
            "4                     3               0  ...                         N   \n",
            "...                 ...             ...  ...                       ...   \n",
            "19995                 0               0  ...                         N   \n",
            "19996                 1               0  ...                         N   \n",
            "19997                 0               0  ...                         N   \n",
            "19998                 0               0  ...                         N   \n",
            "19999                 0               0  ...                         N   \n",
            "\n",
            "      codigo_area_telefone_trabalho meses_no_trabalho profissao ocupacao  \\\n",
            "0                                                   0       9.0      1.0   \n",
            "1                                                   0       2.0      5.0   \n",
            "2                                                   0       NaN      NaN   \n",
            "3                                54                 0       9.0      2.0   \n",
            "4                                                   0       9.0      5.0   \n",
            "...                             ...               ...       ...      ...   \n",
            "19995                                               0       9.0      1.0   \n",
            "19996                                               0       9.0      2.0   \n",
            "19997                                               0       9.0      1.0   \n",
            "19998                                               0       NaN      NaN   \n",
            "19999                                               0       9.0      5.0   \n",
            "\n",
            "       profissao_companheiro  grau_instrucao_companheiro local_onde_reside  \\\n",
            "0                        0.0                         0.0             600.0   \n",
            "1                        NaN                         NaN             492.0   \n",
            "2                        NaN                         NaN             450.0   \n",
            "3                        NaN                         NaN             932.0   \n",
            "4                        NaN                         NaN             440.0   \n",
            "...                      ...                         ...               ...   \n",
            "19995                    0.0                         0.0             308.0   \n",
            "19996                    0.0                         0.0             639.0   \n",
            "19997                    NaN                         NaN             486.0   \n",
            "19998                    NaN                         NaN             590.0   \n",
            "19999                    0.0                         0.0             132.0   \n",
            "\n",
            "       local_onde_trabalha  inadimplente  \n",
            "0                    600.0             0  \n",
            "1                    492.0             0  \n",
            "2                    450.0             1  \n",
            "3                    932.0             1  \n",
            "4                    440.0             1  \n",
            "...                    ...           ...  \n",
            "19995                308.0             0  \n",
            "19996                639.0             0  \n",
            "19997                486.0             0  \n",
            "19998                590.0             0  \n",
            "19999                132.0             0  \n",
            "\n",
            "[20000 rows x 42 columns]\n"
          ]
        }
      ]
    },
    {
      "cell_type": "code",
      "source": [
        "#-------------------------------------------------------------------------------\n",
        "# Removendo colunas com linhas vazias e dados pouco significativos\n",
        "#-------------------------------------------------------------------------------\n",
        "\n",
        "#dados_teste = dados_teste_dummies.drop(dados_teste_dummies.columns[[1, 7]], axis=1)\n",
        "\n",
        "dados_treinamento = dados_treinamento.drop(dados_treinamento.columns[[2, 3, 9, 10, 11, 12, 14, 15 , 16, 21, 22, 23, 24, 25, 27, 31, 33, 34, 37, 38, 39, 40]], axis=1)\n",
        "\n",
        "print (dados_treinamento)"
      ],
      "metadata": {
        "colab": {
          "base_uri": "https://localhost:8080/"
        },
        "id": "4qgdlcXUNm6i",
        "outputId": "8ec9e1c6-ae50-441c-9a71-b3dee0caff6b"
      },
      "execution_count": null,
      "outputs": [
        {
          "output_type": "stream",
          "name": "stdout",
          "text": [
            "       id_solicitante  produto_solicitado  tipo_endereco sexo  idade  \\\n",
            "0                   1                   1              1    M     85   \n",
            "1                   2                   1              1    F     38   \n",
            "2                   3                   1              1    F     37   \n",
            "3                   4                   1              1    M     37   \n",
            "4                   5                   7              1    F     51   \n",
            "...               ...                 ...            ...  ...    ...   \n",
            "19995           19996                   1              1    M     27   \n",
            "19996           19997                   1              1    F     26   \n",
            "19997           19998                   1              1    F     63   \n",
            "19998           19999                   1              1    F     84   \n",
            "19999           20000                   2              1    F     53   \n",
            "\n",
            "       estado_civil  qtde_dependentes possui_telefone_residencial  \\\n",
            "0                 2                 0                           Y   \n",
            "1                 1                 0                           Y   \n",
            "2                 2                 0                           Y   \n",
            "3                 1                 1                           Y   \n",
            "4                 1                 3                           Y   \n",
            "...             ...               ...                         ...   \n",
            "19995             2                 0                           Y   \n",
            "19996             2                 1                           Y   \n",
            "19997             2                 0                           Y   \n",
            "19998             1                 0                           N   \n",
            "19999             1                 0                           Y   \n",
            "\n",
            "      possui_telefone_celular  possui_email  renda_mensal_regular  \\\n",
            "0                           N             0                 480.0   \n",
            "1                           N             1                 380.0   \n",
            "2                           N             1                 600.0   \n",
            "3                           N             1                 460.0   \n",
            "4                           N             1                 687.0   \n",
            "...                       ...           ...                   ...   \n",
            "19995                       N             1                 423.0   \n",
            "19996                       N             0                 350.0   \n",
            "19997                       N             1                 321.0   \n",
            "19998                       N             1                 380.0   \n",
            "19999                       N             1                 300.0   \n",
            "\n",
            "       renda_extra  qtde_contas_bancarias  valor_patrimonio_pessoal  \\\n",
            "0              0.0                      1                       0.0   \n",
            "1              0.0                      0                       0.0   \n",
            "2              0.0                      0                       0.0   \n",
            "3              0.0                      0                       0.0   \n",
            "4            600.0                      0                       0.0   \n",
            "...            ...                    ...                       ...   \n",
            "19995          0.0                      1                       0.0   \n",
            "19996          0.0                      1                       0.0   \n",
            "19997          0.0                      0                       0.0   \n",
            "19998          0.0                      0                       0.0   \n",
            "19999          0.0                      1                       0.0   \n",
            "\n",
            "       possui_carro vinculo_formal_com_empresa possui_telefone_trabalho  \\\n",
            "0                 1                          N                        N   \n",
            "1                 0                          N                        N   \n",
            "2                 0                          N                        N   \n",
            "3                 0                          Y                        Y   \n",
            "4                 1                          Y                        N   \n",
            "...             ...                        ...                      ...   \n",
            "19995             1                          Y                        N   \n",
            "19996             1                          Y                        N   \n",
            "19997             0                          N                        N   \n",
            "19998             0                          N                        N   \n",
            "19999             1                          N                        N   \n",
            "\n",
            "       profissao  ocupacao  inadimplente  \n",
            "0            9.0       1.0             0  \n",
            "1            2.0       5.0             0  \n",
            "2            NaN       NaN             1  \n",
            "3            9.0       2.0             1  \n",
            "4            9.0       5.0             1  \n",
            "...          ...       ...           ...  \n",
            "19995        9.0       1.0             0  \n",
            "19996        9.0       2.0             0  \n",
            "19997        9.0       1.0             0  \n",
            "19998        NaN       NaN             0  \n",
            "19999        9.0       5.0             0  \n",
            "\n",
            "[20000 rows x 20 columns]\n"
          ]
        }
      ]
    },
    {
      "cell_type": "markdown",
      "source": [
        "Durante os testes verifiquei que as colunas #15 - 'tipo_residencia' e #16 - meses_na_residencia' possuiam valores infinitos por isso removi essas colunas."
      ],
      "metadata": {
        "id": "sFLvDwmZp99J"
      }
    },
    {
      "cell_type": "code",
      "source": [
        "#-------------------------------------------------------------------------------\n",
        "# Substituindo registros preenchidos com NULL\n",
        "#-------------------------------------------------------------------------------\n",
        "\n",
        "# sexo\n",
        "dados_treinamento['sexo'] = dados_treinamento['sexo'].replace(np.NaN,('N'))\n",
        "\n",
        "#profissao\n",
        "moda_profissao = statistics.mode(dados_treinamento['profissao'])\n",
        "dados_treinamento['profissao'] = dados_treinamento['profissao'].replace(np.NaN, int(moda_profissao))\n",
        "\n",
        "#ocupacao\n",
        "moda_ocupacao = statistics.mode(dados_treinamento['ocupacao'])\n",
        "dados_treinamento['ocupacao'] = dados_treinamento['ocupacao'].replace(np.NaN, int(moda_profissao))\n",
        "\n",
        "print (dados_treinamento)"
      ],
      "metadata": {
        "colab": {
          "base_uri": "https://localhost:8080/"
        },
        "id": "ZCQqmGI0Qe-V",
        "outputId": "8c2120a7-f4c4-4312-fa12-5bbcddf39793"
      },
      "execution_count": null,
      "outputs": [
        {
          "output_type": "stream",
          "name": "stdout",
          "text": [
            "       id_solicitante  produto_solicitado  tipo_endereco sexo  idade  \\\n",
            "0                   1                   1              1    M     85   \n",
            "1                   2                   1              1    F     38   \n",
            "2                   3                   1              1    F     37   \n",
            "3                   4                   1              1    M     37   \n",
            "4                   5                   7              1    F     51   \n",
            "...               ...                 ...            ...  ...    ...   \n",
            "19995           19996                   1              1    M     27   \n",
            "19996           19997                   1              1    F     26   \n",
            "19997           19998                   1              1    F     63   \n",
            "19998           19999                   1              1    F     84   \n",
            "19999           20000                   2              1    F     53   \n",
            "\n",
            "       estado_civil  qtde_dependentes possui_telefone_residencial  \\\n",
            "0                 2                 0                           Y   \n",
            "1                 1                 0                           Y   \n",
            "2                 2                 0                           Y   \n",
            "3                 1                 1                           Y   \n",
            "4                 1                 3                           Y   \n",
            "...             ...               ...                         ...   \n",
            "19995             2                 0                           Y   \n",
            "19996             2                 1                           Y   \n",
            "19997             2                 0                           Y   \n",
            "19998             1                 0                           N   \n",
            "19999             1                 0                           Y   \n",
            "\n",
            "      possui_telefone_celular  possui_email  renda_mensal_regular  \\\n",
            "0                           N             0                 480.0   \n",
            "1                           N             1                 380.0   \n",
            "2                           N             1                 600.0   \n",
            "3                           N             1                 460.0   \n",
            "4                           N             1                 687.0   \n",
            "...                       ...           ...                   ...   \n",
            "19995                       N             1                 423.0   \n",
            "19996                       N             0                 350.0   \n",
            "19997                       N             1                 321.0   \n",
            "19998                       N             1                 380.0   \n",
            "19999                       N             1                 300.0   \n",
            "\n",
            "       renda_extra  qtde_contas_bancarias  valor_patrimonio_pessoal  \\\n",
            "0              0.0                      1                       0.0   \n",
            "1              0.0                      0                       0.0   \n",
            "2              0.0                      0                       0.0   \n",
            "3              0.0                      0                       0.0   \n",
            "4            600.0                      0                       0.0   \n",
            "...            ...                    ...                       ...   \n",
            "19995          0.0                      1                       0.0   \n",
            "19996          0.0                      1                       0.0   \n",
            "19997          0.0                      0                       0.0   \n",
            "19998          0.0                      0                       0.0   \n",
            "19999          0.0                      1                       0.0   \n",
            "\n",
            "       possui_carro vinculo_formal_com_empresa possui_telefone_trabalho  \\\n",
            "0                 1                          N                        N   \n",
            "1                 0                          N                        N   \n",
            "2                 0                          N                        N   \n",
            "3                 0                          Y                        Y   \n",
            "4                 1                          Y                        N   \n",
            "...             ...                        ...                      ...   \n",
            "19995             1                          Y                        N   \n",
            "19996             1                          Y                        N   \n",
            "19997             0                          N                        N   \n",
            "19998             0                          N                        N   \n",
            "19999             1                          N                        N   \n",
            "\n",
            "       profissao  ocupacao  inadimplente  \n",
            "0            9.0       1.0             0  \n",
            "1            2.0       5.0             0  \n",
            "2            9.0       9.0             1  \n",
            "3            9.0       2.0             1  \n",
            "4            9.0       5.0             1  \n",
            "...          ...       ...           ...  \n",
            "19995        9.0       1.0             0  \n",
            "19996        9.0       2.0             0  \n",
            "19997        9.0       1.0             0  \n",
            "19998        9.0       9.0             0  \n",
            "19999        9.0       5.0             0  \n",
            "\n",
            "[20000 rows x 20 columns]\n"
          ]
        }
      ]
    },
    {
      "cell_type": "code",
      "source": [
        "#-------------------------------------------------------------------------------\n",
        "# Substituindo variaveis categoricas\n",
        "#-------------------------------------------------------------------------------\n",
        "\n",
        "dados_treinamento = pd.get_dummies(data=dados_treinamento, columns=['sexo',\n",
        "                                                                'possui_telefone_residencial',\n",
        "                                                                'vinculo_formal_com_empresa',\n",
        "                                                                'possui_telefone_trabalho'])\n",
        "\n",
        "print(dados_treinamento)"
      ],
      "metadata": {
        "colab": {
          "base_uri": "https://localhost:8080/"
        },
        "id": "-1WYnaTeam4Q",
        "outputId": "a112e917-564f-4dcb-da58-c140cd337638"
      },
      "execution_count": null,
      "outputs": [
        {
          "output_type": "stream",
          "name": "stdout",
          "text": [
            "       id_solicitante  produto_solicitado  tipo_endereco  idade  estado_civil  \\\n",
            "0                   1                   1              1     85             2   \n",
            "1                   2                   1              1     38             1   \n",
            "2                   3                   1              1     37             2   \n",
            "3                   4                   1              1     37             1   \n",
            "4                   5                   7              1     51             1   \n",
            "...               ...                 ...            ...    ...           ...   \n",
            "19995           19996                   1              1     27             2   \n",
            "19996           19997                   1              1     26             2   \n",
            "19997           19998                   1              1     63             2   \n",
            "19998           19999                   1              1     84             1   \n",
            "19999           20000                   2              1     53             1   \n",
            "\n",
            "       qtde_dependentes possui_telefone_celular  possui_email  \\\n",
            "0                     0                       N             0   \n",
            "1                     0                       N             1   \n",
            "2                     0                       N             1   \n",
            "3                     1                       N             1   \n",
            "4                     3                       N             1   \n",
            "...                 ...                     ...           ...   \n",
            "19995                 0                       N             1   \n",
            "19996                 1                       N             0   \n",
            "19997                 0                       N             1   \n",
            "19998                 0                       N             1   \n",
            "19999                 0                       N             1   \n",
            "\n",
            "       renda_mensal_regular  renda_extra  ...  sexo_   sexo_F  sexo_M  sexo_N  \\\n",
            "0                     480.0          0.0  ...       0       0       1       0   \n",
            "1                     380.0          0.0  ...       0       1       0       0   \n",
            "2                     600.0          0.0  ...       0       1       0       0   \n",
            "3                     460.0          0.0  ...       0       0       1       0   \n",
            "4                     687.0        600.0  ...       0       1       0       0   \n",
            "...                     ...          ...  ...     ...     ...     ...     ...   \n",
            "19995                 423.0          0.0  ...       0       0       1       0   \n",
            "19996                 350.0          0.0  ...       0       1       0       0   \n",
            "19997                 321.0          0.0  ...       0       1       0       0   \n",
            "19998                 380.0          0.0  ...       0       1       0       0   \n",
            "19999                 300.0          0.0  ...       0       1       0       0   \n",
            "\n",
            "       possui_telefone_residencial_N  possui_telefone_residencial_Y  \\\n",
            "0                                  0                              1   \n",
            "1                                  0                              1   \n",
            "2                                  0                              1   \n",
            "3                                  0                              1   \n",
            "4                                  0                              1   \n",
            "...                              ...                            ...   \n",
            "19995                              0                              1   \n",
            "19996                              0                              1   \n",
            "19997                              0                              1   \n",
            "19998                              1                              0   \n",
            "19999                              0                              1   \n",
            "\n",
            "       vinculo_formal_com_empresa_N  vinculo_formal_com_empresa_Y  \\\n",
            "0                                 1                             0   \n",
            "1                                 1                             0   \n",
            "2                                 1                             0   \n",
            "3                                 0                             1   \n",
            "4                                 0                             1   \n",
            "...                             ...                           ...   \n",
            "19995                             0                             1   \n",
            "19996                             0                             1   \n",
            "19997                             1                             0   \n",
            "19998                             1                             0   \n",
            "19999                             1                             0   \n",
            "\n",
            "       possui_telefone_trabalho_N  possui_telefone_trabalho_Y  \n",
            "0                               1                           0  \n",
            "1                               1                           0  \n",
            "2                               1                           0  \n",
            "3                               0                           1  \n",
            "4                               1                           0  \n",
            "...                           ...                         ...  \n",
            "19995                           1                           0  \n",
            "19996                           1                           0  \n",
            "19997                           1                           0  \n",
            "19998                           1                           0  \n",
            "19999                           1                           0  \n",
            "\n",
            "[20000 rows x 26 columns]\n"
          ]
        }
      ]
    },
    {
      "cell_type": "code",
      "source": [
        "#-------------------------------------------------------------------------------\n",
        "# Eliminando linhas com registros preenchidos com NULL\n",
        "#-------------------------------------------------------------------------------\n",
        "\n",
        "dados_treinamento.dropna()\n",
        "\n",
        "print(dados_treinamento)"
      ],
      "metadata": {
        "colab": {
          "base_uri": "https://localhost:8080/"
        },
        "id": "5E3gvYDnYYE8",
        "outputId": "0e3a54b4-e735-4c0a-8945-0421975fde3c"
      },
      "execution_count": null,
      "outputs": [
        {
          "output_type": "stream",
          "name": "stdout",
          "text": [
            "       id_solicitante  produto_solicitado  tipo_endereco  idade  estado_civil  \\\n",
            "0                   1                   1              1     85             2   \n",
            "1                   2                   1              1     38             1   \n",
            "2                   3                   1              1     37             2   \n",
            "3                   4                   1              1     37             1   \n",
            "4                   5                   7              1     51             1   \n",
            "...               ...                 ...            ...    ...           ...   \n",
            "19995           19996                   1              1     27             2   \n",
            "19996           19997                   1              1     26             2   \n",
            "19997           19998                   1              1     63             2   \n",
            "19998           19999                   1              1     84             1   \n",
            "19999           20000                   2              1     53             1   \n",
            "\n",
            "       qtde_dependentes possui_telefone_celular  possui_email  \\\n",
            "0                     0                       N             0   \n",
            "1                     0                       N             1   \n",
            "2                     0                       N             1   \n",
            "3                     1                       N             1   \n",
            "4                     3                       N             1   \n",
            "...                 ...                     ...           ...   \n",
            "19995                 0                       N             1   \n",
            "19996                 1                       N             0   \n",
            "19997                 0                       N             1   \n",
            "19998                 0                       N             1   \n",
            "19999                 0                       N             1   \n",
            "\n",
            "       renda_mensal_regular  renda_extra  ...  sexo_   sexo_F  sexo_M  sexo_N  \\\n",
            "0                     480.0          0.0  ...       0       0       1       0   \n",
            "1                     380.0          0.0  ...       0       1       0       0   \n",
            "2                     600.0          0.0  ...       0       1       0       0   \n",
            "3                     460.0          0.0  ...       0       0       1       0   \n",
            "4                     687.0        600.0  ...       0       1       0       0   \n",
            "...                     ...          ...  ...     ...     ...     ...     ...   \n",
            "19995                 423.0          0.0  ...       0       0       1       0   \n",
            "19996                 350.0          0.0  ...       0       1       0       0   \n",
            "19997                 321.0          0.0  ...       0       1       0       0   \n",
            "19998                 380.0          0.0  ...       0       1       0       0   \n",
            "19999                 300.0          0.0  ...       0       1       0       0   \n",
            "\n",
            "       possui_telefone_residencial_N  possui_telefone_residencial_Y  \\\n",
            "0                                  0                              1   \n",
            "1                                  0                              1   \n",
            "2                                  0                              1   \n",
            "3                                  0                              1   \n",
            "4                                  0                              1   \n",
            "...                              ...                            ...   \n",
            "19995                              0                              1   \n",
            "19996                              0                              1   \n",
            "19997                              0                              1   \n",
            "19998                              1                              0   \n",
            "19999                              0                              1   \n",
            "\n",
            "       vinculo_formal_com_empresa_N  vinculo_formal_com_empresa_Y  \\\n",
            "0                                 1                             0   \n",
            "1                                 1                             0   \n",
            "2                                 1                             0   \n",
            "3                                 0                             1   \n",
            "4                                 0                             1   \n",
            "...                             ...                           ...   \n",
            "19995                             0                             1   \n",
            "19996                             0                             1   \n",
            "19997                             1                             0   \n",
            "19998                             1                             0   \n",
            "19999                             1                             0   \n",
            "\n",
            "       possui_telefone_trabalho_N  possui_telefone_trabalho_Y  \n",
            "0                               1                           0  \n",
            "1                               1                           0  \n",
            "2                               1                           0  \n",
            "3                               0                           1  \n",
            "4                               1                           0  \n",
            "...                           ...                         ...  \n",
            "19995                           1                           0  \n",
            "19996                           1                           0  \n",
            "19997                           1                           0  \n",
            "19998                           1                           0  \n",
            "19999                           1                           0  \n",
            "\n",
            "[20000 rows x 26 columns]\n"
          ]
        }
      ]
    },
    {
      "cell_type": "code",
      "source": [
        "#------------------------------------------------------------------------------\n",
        "#  Criar os conjuntos correspondentes aos atributos e ao alvo\n",
        "#------------------------------------------------------------------------------\n",
        "\n",
        "X = dados_treinamento.select_dtypes(exclude=['object'])\n",
        "y = dados_treinamento.inadimplente\n",
        "\n",
        "#------------------------------------------------------------------------------\n",
        "#  Visualizando os conjuntos de dados\n",
        "#------------------------------------------------------------------------------\n",
        "\n",
        "print(X)\n",
        "print(y)"
      ],
      "metadata": {
        "colab": {
          "base_uri": "https://localhost:8080/"
        },
        "id": "OXEIWMKtb9S_",
        "outputId": "d5eed8a1-20a5-47f5-ca5c-68add1c299f4"
      },
      "execution_count": null,
      "outputs": [
        {
          "output_type": "stream",
          "name": "stdout",
          "text": [
            "       id_solicitante  produto_solicitado  tipo_endereco  idade  estado_civil  \\\n",
            "0                   1                   1              1     85             2   \n",
            "1                   2                   1              1     38             1   \n",
            "2                   3                   1              1     37             2   \n",
            "3                   4                   1              1     37             1   \n",
            "4                   5                   7              1     51             1   \n",
            "...               ...                 ...            ...    ...           ...   \n",
            "19995           19996                   1              1     27             2   \n",
            "19996           19997                   1              1     26             2   \n",
            "19997           19998                   1              1     63             2   \n",
            "19998           19999                   1              1     84             1   \n",
            "19999           20000                   2              1     53             1   \n",
            "\n",
            "       qtde_dependentes  possui_email  renda_mensal_regular  renda_extra  \\\n",
            "0                     0             0                 480.0          0.0   \n",
            "1                     0             1                 380.0          0.0   \n",
            "2                     0             1                 600.0          0.0   \n",
            "3                     1             1                 460.0          0.0   \n",
            "4                     3             1                 687.0        600.0   \n",
            "...                 ...           ...                   ...          ...   \n",
            "19995                 0             1                 423.0          0.0   \n",
            "19996                 1             0                 350.0          0.0   \n",
            "19997                 0             1                 321.0          0.0   \n",
            "19998                 0             1                 380.0          0.0   \n",
            "19999                 0             1                 300.0          0.0   \n",
            "\n",
            "       qtde_contas_bancarias  ...  sexo_   sexo_F  sexo_M  sexo_N  \\\n",
            "0                          1  ...       0       0       1       0   \n",
            "1                          0  ...       0       1       0       0   \n",
            "2                          0  ...       0       1       0       0   \n",
            "3                          0  ...       0       0       1       0   \n",
            "4                          0  ...       0       1       0       0   \n",
            "...                      ...  ...     ...     ...     ...     ...   \n",
            "19995                      1  ...       0       0       1       0   \n",
            "19996                      1  ...       0       1       0       0   \n",
            "19997                      0  ...       0       1       0       0   \n",
            "19998                      0  ...       0       1       0       0   \n",
            "19999                      1  ...       0       1       0       0   \n",
            "\n",
            "       possui_telefone_residencial_N  possui_telefone_residencial_Y  \\\n",
            "0                                  0                              1   \n",
            "1                                  0                              1   \n",
            "2                                  0                              1   \n",
            "3                                  0                              1   \n",
            "4                                  0                              1   \n",
            "...                              ...                            ...   \n",
            "19995                              0                              1   \n",
            "19996                              0                              1   \n",
            "19997                              0                              1   \n",
            "19998                              1                              0   \n",
            "19999                              0                              1   \n",
            "\n",
            "       vinculo_formal_com_empresa_N  vinculo_formal_com_empresa_Y  \\\n",
            "0                                 1                             0   \n",
            "1                                 1                             0   \n",
            "2                                 1                             0   \n",
            "3                                 0                             1   \n",
            "4                                 0                             1   \n",
            "...                             ...                           ...   \n",
            "19995                             0                             1   \n",
            "19996                             0                             1   \n",
            "19997                             1                             0   \n",
            "19998                             1                             0   \n",
            "19999                             1                             0   \n",
            "\n",
            "       possui_telefone_trabalho_N  possui_telefone_trabalho_Y  \n",
            "0                               1                           0  \n",
            "1                               1                           0  \n",
            "2                               1                           0  \n",
            "3                               0                           1  \n",
            "4                               1                           0  \n",
            "...                           ...                         ...  \n",
            "19995                           1                           0  \n",
            "19996                           1                           0  \n",
            "19997                           1                           0  \n",
            "19998                           1                           0  \n",
            "19999                           1                           0  \n",
            "\n",
            "[20000 rows x 25 columns]\n",
            "0        0\n",
            "1        0\n",
            "2        1\n",
            "3        1\n",
            "4        1\n",
            "        ..\n",
            "19995    0\n",
            "19996    0\n",
            "19997    0\n",
            "19998    0\n",
            "19999    0\n",
            "Name: inadimplente, Length: 20000, dtype: int64\n"
          ]
        }
      ]
    },
    {
      "cell_type": "code",
      "source": [
        "#------------------------------------------------------------------------------\n",
        "#  Dividir o conjunto de dados em conjunto de treinamento e conjunto de teste\n",
        "#------------------------------------------------------------------------------\n",
        "\n",
        "from sklearn.model_selection import train_test_split\n",
        "\n",
        "X_train, X_test, y_train, y_test = train_test_split( X, y, test_size = 0.3, random_state = 4)\n",
        "\n",
        "#------------------------------------------------------------------------------\n",
        "#  Visualizando os conjuntos de treinamento e teste\n",
        "#------------------------------------------------------------------------------\n",
        "\n",
        "# print(X_train)\n",
        "# print(y_train)\n",
        "# print(X_test)\n",
        "# print(y_test)"
      ],
      "metadata": {
        "id": "NS9fUCnBecjc"
      },
      "execution_count": null,
      "outputs": []
    },
    {
      "cell_type": "markdown",
      "source": [
        "Nas células de código abaixo usei o codigo: numpy.isfinite(X_train).all()\n",
        "- Para identificar quais colunas possuiam registros com valores infinitos."
      ],
      "metadata": {
        "id": "3Ujix8IGzsjv"
      }
    },
    {
      "cell_type": "code",
      "source": [
        "import numpy\n",
        "numpy.isfinite(X_train).all()"
      ],
      "metadata": {
        "colab": {
          "base_uri": "https://localhost:8080/"
        },
        "id": "oBXbXdk6mLHd",
        "outputId": "8b22ed2d-af59-47b4-cc30-5c76f10aa321"
      },
      "execution_count": null,
      "outputs": [
        {
          "output_type": "execute_result",
          "data": {
            "text/plain": [
              "id_solicitante                   True\n",
              "produto_solicitado               True\n",
              "tipo_endereco                    True\n",
              "idade                            True\n",
              "estado_civil                     True\n",
              "qtde_dependentes                 True\n",
              "possui_email                     True\n",
              "renda_mensal_regular             True\n",
              "renda_extra                      True\n",
              "qtde_contas_bancarias            True\n",
              "valor_patrimonio_pessoal         True\n",
              "possui_carro                     True\n",
              "profissao                        True\n",
              "ocupacao                         True\n",
              "inadimplente                     True\n",
              "sexo_                            True\n",
              "sexo_F                           True\n",
              "sexo_M                           True\n",
              "sexo_N                           True\n",
              "possui_telefone_residencial_N    True\n",
              "possui_telefone_residencial_Y    True\n",
              "vinculo_formal_com_empresa_N     True\n",
              "vinculo_formal_com_empresa_Y     True\n",
              "possui_telefone_trabalho_N       True\n",
              "possui_telefone_trabalho_Y       True\n",
              "dtype: bool"
            ]
          },
          "metadata": {},
          "execution_count": 100
        }
      ]
    },
    {
      "cell_type": "code",
      "source": [
        "import numpy\n",
        "numpy.isfinite(X_test).all()"
      ],
      "metadata": {
        "colab": {
          "base_uri": "https://localhost:8080/"
        },
        "id": "t6H1Jg4omnoi",
        "outputId": "330dec54-e133-4944-954f-1d8fe93346af"
      },
      "execution_count": null,
      "outputs": [
        {
          "output_type": "execute_result",
          "data": {
            "text/plain": [
              "id_solicitante                   True\n",
              "produto_solicitado               True\n",
              "tipo_endereco                    True\n",
              "idade                            True\n",
              "estado_civil                     True\n",
              "qtde_dependentes                 True\n",
              "possui_email                     True\n",
              "renda_mensal_regular             True\n",
              "renda_extra                      True\n",
              "qtde_contas_bancarias            True\n",
              "valor_patrimonio_pessoal         True\n",
              "possui_carro                     True\n",
              "profissao                        True\n",
              "ocupacao                         True\n",
              "inadimplente                     True\n",
              "sexo_                            True\n",
              "sexo_F                           True\n",
              "sexo_M                           True\n",
              "sexo_N                           True\n",
              "possui_telefone_residencial_N    True\n",
              "possui_telefone_residencial_Y    True\n",
              "vinculo_formal_com_empresa_N     True\n",
              "vinculo_formal_com_empresa_Y     True\n",
              "possui_telefone_trabalho_N       True\n",
              "possui_telefone_trabalho_Y       True\n",
              "dtype: bool"
            ]
          },
          "metadata": {},
          "execution_count": 101
        }
      ]
    },
    {
      "cell_type": "code",
      "source": [
        "import numpy\n",
        "numpy.isfinite(y_train).all()"
      ],
      "metadata": {
        "colab": {
          "base_uri": "https://localhost:8080/"
        },
        "id": "fqY37K6_mswz",
        "outputId": "d5746030-83be-4f9a-abe5-6554a1e417be"
      },
      "execution_count": null,
      "outputs": [
        {
          "output_type": "execute_result",
          "data": {
            "text/plain": [
              "True"
            ]
          },
          "metadata": {},
          "execution_count": 102
        }
      ]
    },
    {
      "cell_type": "code",
      "source": [
        "import numpy\n",
        "numpy.isfinite(y_test).all()"
      ],
      "metadata": {
        "colab": {
          "base_uri": "https://localhost:8080/"
        },
        "id": "bgCGG7X4mwIo",
        "outputId": "65d84a8a-1521-4648-b642-fceee897cf4a"
      },
      "execution_count": null,
      "outputs": [
        {
          "output_type": "execute_result",
          "data": {
            "text/plain": [
              "True"
            ]
          },
          "metadata": {},
          "execution_count": 103
        }
      ]
    },
    {
      "cell_type": "code",
      "source": [
        "from sklearn.neighbors import KNeighborsClassifier\n",
        "\n",
        "# Initialize a model with 4 neighbors\n",
        "knn = KNeighborsClassifier(n_neighbors=4) # Para K = 4, obtive o melhor resultado"
      ],
      "metadata": {
        "id": "pBnCFlvOfCJd"
      },
      "execution_count": null,
      "outputs": []
    },
    {
      "cell_type": "code",
      "source": [
        "modelo = knn.fit(X_train, y_train)\n",
        "y_resposta = modelo.predict(X_test)\n",
        "\n",
        "#------------------------------------------------------------------------------\n",
        "#  Visualizando a resposta\n",
        "#------------------------------------------------------------------------------\n",
        "\n",
        "print(y_resposta)"
      ],
      "metadata": {
        "colab": {
          "base_uri": "https://localhost:8080/"
        },
        "id": "C_Qymbg0fXA2",
        "outputId": "a63cd229-1ad1-4587-9ae1-74725fe83723"
      },
      "execution_count": null,
      "outputs": [
        {
          "output_type": "stream",
          "name": "stdout",
          "text": [
            "[0 1 0 ... 0 1 0]\n"
          ]
        }
      ]
    },
    {
      "cell_type": "markdown",
      "source": [
        "\n",
        "ValueError: Input contains NaN, infinity or a value too large for dtype('float64').\n",
        "\n",
        "Resolvido removendo as colunas descritas acima."
      ],
      "metadata": {
        "id": "iOvNWzQnghu7"
      }
    },
    {
      "cell_type": "code",
      "source": [
        "#------------------------------------------------------------------------------\n",
        "#  Métricas de Erro\n",
        "#------------------------------------------------------------------------------\n",
        "\n",
        "from sklearn.metrics import accuracy_score\n",
        "\n",
        "acuracia = accuracy_score(y_test, y_resposta)\n",
        "\n",
        "print('Acuracia: ', acuracia)"
      ],
      "metadata": {
        "colab": {
          "base_uri": "https://localhost:8080/"
        },
        "id": "HOcEFUfPsqBX",
        "outputId": "5c437ac3-2e50-4eef-904b-78386c7de0ed"
      },
      "execution_count": null,
      "outputs": [
        {
          "output_type": "stream",
          "name": "stdout",
          "text": [
            "Acuracia:  0.496\n"
          ]
        }
      ]
    },
    {
      "cell_type": "code",
      "source": [
        "#------------------------------------------------------------------------------\n",
        "#  Support Vector Machines\n",
        "#------------------------------------------------------------------------------\n",
        "\n",
        "from sklearn.svm import LinearSVC\n",
        "\n",
        "LinSVC = LinearSVC (penalty='l2', C= 10.0)\n",
        "\n",
        "LinSVC = LinSVC.fit (X_train , y_train)\n",
        "\n",
        "y_resposta = LinSVC.predict(X_test)"
      ],
      "metadata": {
        "colab": {
          "base_uri": "https://localhost:8080/"
        },
        "id": "qj-HGw6Ezogn",
        "outputId": "26aabc2d-551b-4fec-b338-f052ad6b6f72"
      },
      "execution_count": null,
      "outputs": [
        {
          "output_type": "stream",
          "name": "stderr",
          "text": [
            "/usr/local/lib/python3.7/dist-packages/sklearn/svm/_base.py:1208: ConvergenceWarning: Liblinear failed to converge, increase the number of iterations.\n",
            "  ConvergenceWarning,\n"
          ]
        }
      ]
    },
    {
      "cell_type": "code",
      "source": [
        "#------------------------------------------------------------------------------\n",
        "#  Métricas de Erro\n",
        "#------------------------------------------------------------------------------\n",
        "\n",
        "from sklearn.metrics import accuracy_score\n",
        "\n",
        "acuracia = accuracy_score(y_test, y_resposta)\n",
        "\n",
        "print('Acuracia: ', acuracia)"
      ],
      "metadata": {
        "colab": {
          "base_uri": "https://localhost:8080/"
        },
        "id": "ihee7tMF2yVF",
        "outputId": "264ce6b1-0425-4f70-b3a3-cce72b04c4f3"
      },
      "execution_count": null,
      "outputs": [
        {
          "output_type": "stream",
          "name": "stdout",
          "text": [
            "Acuracia:  0.8433333333333334\n"
          ]
        }
      ]
    },
    {
      "cell_type": "markdown",
      "source": [
        "Os melhores resultados foram obtidos usando SVM (com C = 10.0)"
      ],
      "metadata": {
        "id": "3kyCOQsU53Sz"
      }
    },
    {
      "cell_type": "code",
      "source": [
        "#------------------------------------------------------------------------------\n",
        "#  Classificador Beyesiano\n",
        "#------------------------------------------------------------------------------\n",
        "\n",
        "from sklearn.naive_bayes import BernoulliNB\n",
        "\n",
        "BNB = BernoulliNB (alpha=2.0)\n",
        "\n",
        "BNB = BNB.fit (X_train , y_train)\n",
        "y_resposta = BNB.predict (X_test)"
      ],
      "metadata": {
        "id": "CO-jRRRo20zh"
      },
      "execution_count": null,
      "outputs": []
    },
    {
      "cell_type": "code",
      "source": [
        "#------------------------------------------------------------------------------\n",
        "#  Métricas de Erro\n",
        "#------------------------------------------------------------------------------\n",
        "\n",
        "from sklearn.metrics import accuracy_score\n",
        "\n",
        "acuracia = accuracy_score(y_test, y_resposta)\n",
        "\n",
        "print('Acuracia: ', acuracia)"
      ],
      "metadata": {
        "colab": {
          "base_uri": "https://localhost:8080/"
        },
        "id": "3fE7-pfM4Ssi",
        "outputId": "e1cf7d22-64cf-4f0b-bcb6-d17887c83cbe"
      },
      "execution_count": null,
      "outputs": [
        {
          "output_type": "stream",
          "name": "stdout",
          "text": [
            "Acuracia:  1.0\n"
          ]
        }
      ]
    }
  ]
}